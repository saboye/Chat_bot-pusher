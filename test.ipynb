{
  "nbformat": 4,
  "nbformat_minor": 0,
  "metadata": {
    "colab": {
      "name": "Untitled18.ipynb",
      "version": "0.3.2",
      "provenance": [],
      "collapsed_sections": [],
      "include_colab_link": true
    },
    "kernelspec": {
      "name": "python3",
      "display_name": "Python 3"
    }
  },
  "cells": [
    {
      "cell_type": "markdown",
      "metadata": {
        "id": "view-in-github",
        "colab_type": "text"
      },
      "source": [
        "<a href=\"https://colab.research.google.com/github/saboye/Chat_bot-pusher/blob/master/test.ipynb\" target=\"_parent\"><img src=\"https://colab.research.google.com/assets/colab-badge.svg\" alt=\"Open In Colab\"/></a>"
      ]
    },
    {
      "metadata": {
        "id": "8J-LyGpesqeZ",
        "colab_type": "code",
        "colab": {}
      },
      "cell_type": "code",
      "source": [
        "import collections\n",
        "import multiprocessing \n",
        "import os \n",
        "import time \n",
        "from pprint import pprint \n"
      ],
      "execution_count": 0,
      "outputs": []
    },
    {
      "metadata": {
        "id": "BwpOiBlrEv7M",
        "colab_type": "code",
        "colab": {}
      },
      "cell_type": "code",
      "source": [
        "\n",
        "worker = collections.namedtuple('worker', [\n",
        "    'name',\n",
        "    'operation',\n",
        "    'prediction',\n",
        "    \n",
        " ])"
      ],
      "execution_count": 0,
      "outputs": []
    },
    {
      "metadata": {
        "id": "pcWddRkQE2fI",
        "colab_type": "code",
        "colab": {}
      },
      "cell_type": "code",
      "source": [
        "workers =(\n",
        "     worker(name='worker-1', operation = 'A', prediction = 0.77),\n",
        "     worker(name='worker-2', operation = 'B', prediction = 0.67),  \n",
        "     worker(name='worker-3', operation = 'C', prediction = 0.4),\n",
        "     worker(name='worker-4', operation = 'D', prediction = 0.87),\n",
        "           \n",
        ")"
      ],
      "execution_count": 0,
      "outputs": []
    },
    {
      "metadata": {
        "id": "41H3LusuE7cF",
        "colab_type": "code",
        "outputId": "4bd52459-3fae-4cb3-dc72-483560bd83fc",
        "colab": {
          "base_uri": "https://localhost:8080/",
          "height": 119
        }
      },
      "cell_type": "code",
      "source": [
        "for i in workers:\n",
        "  print(f'This is worker.{i}')\n",
        "print()\n",
        "print('Colab has ',  multiprocessing.cpu_count(), 'CPUs')"
      ],
      "execution_count": 138,
      "outputs": [
        {
          "output_type": "stream",
          "text": [
            "This is worker.worker(name='worker-1', operation='A', prediction=0.77)\n",
            "This is worker.worker(name='worker-2', operation='B', prediction=0.67)\n",
            "This is worker.worker(name='worker-3', operation='C', prediction=0.4)\n",
            "This is worker.worker(name='worker-4', operation='D', prediction=0.87)\n",
            "\n",
            "Colab has  2 CPUs\n"
          ],
          "name": "stdout"
        }
      ]
    },
    {
      "metadata": {
        "id": "mA0NrEjVFBC2",
        "colab_type": "code",
        "colab": {}
      },
      "cell_type": "code",
      "source": [
        "def transform (W):\n",
        "  \n",
        "  print(f'Proces.{os.getpid()}.working by.{W.name}')\n",
        "  result ={'name':W.name, 'Loss':1-W.prediction}\n",
        "  print(f'Process.{os.getpid()}.done processing.{W.operation}')\n",
        "  return result \n",
        "  #pass \n",
        "\n"
      ],
      "execution_count": 0,
      "outputs": []
    },
    {
      "metadata": {
        "id": "0UJViSwgE43o",
        "colab_type": "code",
        "outputId": "0af6d4bd-da99-4ff3-8c7d-a73dfa478e69",
        "colab": {
          "base_uri": "https://localhost:8080/",
          "height": 170
        }
      },
      "cell_type": "code",
      "source": [
        "#processes = 1\n",
        "pool =multiprocessing.Pool()\n",
        "result = pool.map(transform, workers)\n",
        "print(result)"
      ],
      "execution_count": 140,
      "outputs": [
        {
          "output_type": "stream",
          "text": [
            "Proces.480.working by.worker-1\n",
            "Process.480.done processing.A\n",
            "Proces.480.working by.worker-3\n",
            "Proces.481.working by.worker-2\n",
            "Process.480.done processing.C\n",
            "Proces.480.working by.worker-4\n",
            "Process.481.done processing.B\n",
            "Process.480.done processing.D\n",
            "[{'name': 'worker-1', 'Loss': 0.22999999999999998}, {'name': 'worker-2', 'Loss': 0.32999999999999996}, {'name': 'worker-3', 'Loss': 0.6}, {'name': 'worker-4', 'Loss': 0.13}]\n"
          ],
          "name": "stdout"
        }
      ]
    },
    {
      "metadata": {
        "id": "_OaKSKA-3Okc",
        "colab_type": "code",
        "colab": {}
      },
      "cell_type": "code",
      "source": [
        ""
      ],
      "execution_count": 0,
      "outputs": []
    },
    {
      "metadata": {
        "id": "gwlQ2CmEGQVY",
        "colab_type": "code",
        "colab": {}
      },
      "cell_type": "code",
      "source": [
        ""
      ],
      "execution_count": 0,
      "outputs": []
    }
  ]
}