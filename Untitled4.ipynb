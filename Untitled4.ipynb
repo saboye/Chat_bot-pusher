{
  "nbformat": 4,
  "nbformat_minor": 0,
  "metadata": {
    "colab": {
      "name": "Untitled4.ipynb",
      "version": "0.3.2",
      "provenance": [],
      "include_colab_link": true
    },
    "kernelspec": {
      "name": "python3",
      "display_name": "Python 3"
    }
  },
  "cells": [
    {
      "cell_type": "markdown",
      "metadata": {
        "id": "view-in-github",
        "colab_type": "text"
      },
      "source": [
        "<a href=\"https://colab.research.google.com/github/saboye/Chat_bot-pusher/blob/master/Untitled4.ipynb\" target=\"_parent\"><img src=\"https://colab.research.google.com/assets/colab-badge.svg\" alt=\"Open In Colab\"/></a>"
      ]
    },
    {
      "metadata": {
        "id": "TH3A3c-mjt4E",
        "colab_type": "code",
        "colab": {}
      },
      "cell_type": "code",
      "source": [
        "from __future__ import absolute_import, division, print_function"
      ],
      "execution_count": 0,
      "outputs": []
    },
    {
      "metadata": {
        "id": "f-Wj1nx1j0MZ",
        "colab_type": "code",
        "colab": {}
      },
      "cell_type": "code",
      "source": [
        "import tensorflow as tf\n",
        "from tensorflow import keras"
      ],
      "execution_count": 0,
      "outputs": []
    },
    {
      "metadata": {
        "id": "RK8FC_zjj61P",
        "colab_type": "code",
        "colab": {}
      },
      "cell_type": "code",
      "source": [
        "import numpy as np\n",
        "import matplotlib.pyplot as plt\n"
      ],
      "execution_count": 0,
      "outputs": []
    },
    {
      "metadata": {
        "id": "60f6gtVRkT5F",
        "colab_type": "code",
        "colab": {}
      },
      "cell_type": "code",
      "source": [
        "fashion_mnist = keras.datasets.fashion_mnist\n",
        "\n",
        "(train_images, train_labels), (test_images, test_labels) = fashion_mnist.load_data()"
      ],
      "execution_count": 0,
      "outputs": []
    },
    {
      "metadata": {
        "id": "qU4OnjhJkbbF",
        "colab_type": "code",
        "colab": {}
      },
      "cell_type": "code",
      "source": [
        "class_names = ['T-shirt/top', 'Trouser', 'Pullover', 'Dress', 'Coat', \n",
        "               'Sandal', 'Shirt', 'Sneaker', 'Bag', 'Ankle boot']"
      ],
      "execution_count": 0,
      "outputs": []
    },
    {
      "metadata": {
        "id": "BpiRt_Iqkk7l",
        "colab_type": "code",
        "colab": {
          "base_uri": "https://localhost:8080/",
          "height": 530
        },
        "outputId": "4b6afc25-238d-4aa8-f664-8fbaa9afe10a"
      },
      "cell_type": "code",
      "source": [
        "model = keras.Sequential([\n",
        "    keras.layers.Flatten(input_shape=(28, 28)),\n",
        "    keras.layers.Dense(128, activation=tf.nn.relu),\n",
        "    keras.layers.Dense(10, activation=tf.nn.softmax)\n",
        "])\n",
        "    \n",
        "    \n",
        "model.compile(optimizer='adam', \n",
        "              loss='sparse_categorical_crossentropy',\n",
        "              metrics=['accuracy'])  \n",
        "\n",
        "model.fit(train_images, train_labels, epochs=10) \n",
        "\n",
        "test_loss, test_acc = model.evaluate(test_images, test_labels)\n",
        "\n",
        "print('Test accuracy:', test_acc) \n",
        "print('Test loss:', test_loss) \n",
        "predictions = model.predict(test_images)\n",
        "\n",
        "print(np.argmax(predictions[0]))\n",
        "\n",
        "print(test_labels[0])\n",
        "print(train_images.shape)\n"
      ],
      "execution_count": 7,
      "outputs": [
        {
          "output_type": "stream",
          "text": [
            "WARNING:tensorflow:From /usr/local/lib/python3.6/dist-packages/tensorflow/python/ops/resource_variable_ops.py:435: colocate_with (from tensorflow.python.framework.ops) is deprecated and will be removed in a future version.\n",
            "Instructions for updating:\n",
            "Colocations handled automatically by placer.\n",
            "Epoch 1/10\n",
            "60000/60000 [==============================] - 8s 128us/sample - loss: 10.4912 - acc: 0.3487\n",
            "Epoch 2/10\n",
            "60000/60000 [==============================] - 7s 122us/sample - loss: 10.4182 - acc: 0.3535\n",
            "Epoch 3/10\n",
            "60000/60000 [==============================] - 7s 115us/sample - loss: 10.3864 - acc: 0.3555\n",
            "Epoch 4/10\n",
            "60000/60000 [==============================] - 7s 115us/sample - loss: 10.4267 - acc: 0.3530\n",
            "Epoch 5/10\n",
            "60000/60000 [==============================] - 7s 111us/sample - loss: 10.1790 - acc: 0.3684\n",
            "Epoch 6/10\n",
            "60000/60000 [==============================] - 7s 114us/sample - loss: 10.2164 - acc: 0.3661\n",
            "Epoch 7/10\n",
            "60000/60000 [==============================] - 7s 113us/sample - loss: 10.2261 - acc: 0.3655\n",
            "Epoch 8/10\n",
            "60000/60000 [==============================] - 7s 114us/sample - loss: 10.2362 - acc: 0.3649\n",
            "Epoch 9/10\n",
            "60000/60000 [==============================] - 7s 115us/sample - loss: 10.4289 - acc: 0.3529\n",
            "Epoch 10/10\n",
            "60000/60000 [==============================] - 7s 117us/sample - loss: 10.4098 - acc: 0.3541\n",
            "10000/10000 [==============================] - 0s 44us/sample - loss: 10.2063 - acc: 0.3667\n",
            "Test accuracy: 0.3667\n",
            "Test loss: 10.206250268554687\n",
            "9\n",
            "9\n",
            "(60000, 28, 28)\n"
          ],
          "name": "stdout"
        }
      ]
    },
    {
      "metadata": {
        "id": "sjNR2O_Okxbk",
        "colab_type": "code",
        "colab": {
          "base_uri": "https://localhost:8080/",
          "height": 4254
        },
        "outputId": "5a6413dd-9d19-45e7-9fb8-9ce5cbef2b28"
      },
      "cell_type": "code",
      "source": [
        "plt.imshow(train_images[4], cmap =plt.cm.binary)\n",
        "plt.show()\n",
        "print(train_images[4])\n",
        "\n",
        "plt.figure()\n",
        "plt.imshow(train_images[4])\n",
        "plt.colorbar()\n",
        "plt.grid(False)\n",
        "plt.show()\n",
        "\n",
        "train_images = train_images / 255.0\n",
        "\n",
        "test_images = test_images / 255.0\n",
        "\n",
        "plt.figure(figsize=(10,10))\n",
        "for i in range(10):\n",
        "    plt.subplot(5,5,i+1)\n",
        "    plt.xticks([])\n",
        "    plt.yticks([])\n",
        "    plt.grid(False)\n",
        "    plt.imshow(train_images[i], cmap=plt.cm.binary)\n",
        "    plt.xlabel(class_names[train_labels[i]])\n",
        "plt.show()"
      ],
      "execution_count": 14,
      "outputs": [
        {
          "output_type": "display_data",
          "data": {
            "image/png": "[encoded data removed]",
            "text/plain": [
              "<Figure size 576x396 with 1 Axes>"
            ]
          },
          "metadata": {
            "tags": []
          }
        },
        {
          "output_type": "stream",
          "text": [
            "[[0.00000000e+00 0.00000000e+00 0.00000000e+00 0.00000000e+00\n",
            "  0.00000000e+00 0.00000000e+00 0.00000000e+00 0.00000000e+00\n",
            "  0.00000000e+00 0.00000000e+00 0.00000000e+00 0.00000000e+00\n",
            "  0.00000000e+00 0.00000000e+00 0.00000000e+00 0.00000000e+00\n",
            "  0.00000000e+00 2.41141771e-11 0.00000000e+00 0.00000000e+00\n",
            "  0.00000000e+00 0.00000000e+00 0.00000000e+00 0.00000000e+00\n",
            "  0.00000000e+00 0.00000000e+00 0.00000000e+00 0.00000000e+00]\n",
            " [0.00000000e+00 0.00000000e+00 0.00000000e+00 0.00000000e+00\n",
            "  0.00000000e+00 0.00000000e+00 0.00000000e+00 0.00000000e+00\n",
            "  1.75291518e-10 1.91058480e-10 1.73436581e-10 2.96789872e-11\n",
            "  0.00000000e+00 0.00000000e+00 0.00000000e+00 2.41141771e-11\n",
            "  2.01260632e-10 2.09607847e-10 1.81783796e-10 1.02021518e-11\n",
            "  0.00000000e+00 0.00000000e+00 0.00000000e+00 0.00000000e+00\n",
            "  0.00000000e+00 0.00000000e+00 0.00000000e+00 0.00000000e+00]\n",
            " [0.00000000e+00 0.00000000e+00 0.00000000e+00 0.00000000e+00\n",
            "  0.00000000e+00 0.00000000e+00 0.00000000e+00 0.00000000e+00\n",
            "  1.78073923e-10 2.10535315e-10 2.17027594e-10 2.25374809e-10\n",
            "  2.13317720e-10 1.36337847e-10 2.21664935e-10 2.24447341e-10\n",
            "  2.17027594e-10 2.02188100e-10 1.93840885e-10 0.00000000e+00\n",
            "  0.00000000e+00 0.00000000e+00 0.00000000e+00 0.00000000e+00\n",
            "  0.00000000e+00 0.00000000e+00 0.00000000e+00 0.00000000e+00]\n",
            " [0.00000000e+00 0.00000000e+00 0.00000000e+00 0.00000000e+00\n",
            "  0.00000000e+00 0.00000000e+00 0.00000000e+00 0.00000000e+00\n",
            "  1.60452024e-10 2.08680379e-10 1.99405695e-10 2.16100125e-10\n",
            "  2.35576961e-10 0.00000000e+00 1.79928860e-10 2.22592404e-10\n",
            "  2.01260632e-10 2.04970505e-10 1.76218986e-10 0.00000000e+00\n",
            "  0.00000000e+00 0.00000000e+00 0.00000000e+00 0.00000000e+00\n",
            "  0.00000000e+00 0.00000000e+00 0.00000000e+00 0.00000000e+00]\n",
            " [0.00000000e+00 0.00000000e+00 0.00000000e+00 0.00000000e+00\n",
            "  0.00000000e+00 0.00000000e+00 0.00000000e+00 0.00000000e+00\n",
            "  1.28918101e-10 2.12390252e-10 1.96623290e-10 2.09607847e-10\n",
            "  2.36504429e-10 0.00000000e+00 1.50249873e-10 2.36504429e-10\n",
            "  1.97550758e-10 2.09607847e-10 1.85493670e-10 0.00000000e+00\n",
            "  0.00000000e+00 0.00000000e+00 0.00000000e+00 0.00000000e+00\n",
            "  0.00000000e+00 0.00000000e+00 0.00000000e+00 0.00000000e+00]\n",
            " [0.00000000e+00 0.00000000e+00 0.00000000e+00 0.00000000e+00\n",
            "  0.00000000e+00 0.00000000e+00 0.00000000e+00 0.00000000e+00\n",
            "  9.08918982e-11 2.15172657e-10 1.95695822e-10 1.99405695e-10\n",
            "  2.30939619e-10 4.26635441e-11 1.50249873e-10 2.28157214e-10\n",
            "  1.98478227e-10 2.13317720e-10 1.72509113e-10 0.00000000e+00\n",
            "  0.00000000e+00 0.00000000e+00 0.00000000e+00 0.00000000e+00\n",
            "  0.00000000e+00 0.00000000e+00 0.00000000e+00 0.00000000e+00]\n",
            " [0.00000000e+00 0.00000000e+00 0.00000000e+00 0.00000000e+00\n",
            "  0.00000000e+00 0.00000000e+00 0.00000000e+00 0.00000000e+00\n",
            "  6.49227844e-11 2.11462784e-10 1.97550758e-10 2.04043037e-10\n",
            "  2.07752910e-10 2.33722024e-10 2.21664935e-10 2.03115568e-10\n",
            "  2.01260632e-10 2.14245189e-10 1.58597088e-10 0.00000000e+00\n",
            "  0.00000000e+00 0.00000000e+00 0.00000000e+00 0.00000000e+00\n",
            "  0.00000000e+00 0.00000000e+00 0.00000000e+00 0.00000000e+00]\n",
            " [0.00000000e+00 0.00000000e+00 0.00000000e+00 0.00000000e+00\n",
            "  0.00000000e+00 0.00000000e+00 0.00000000e+00 0.00000000e+00\n",
            "  4.17360757e-11 2.05897974e-10 1.98478227e-10 2.02188100e-10\n",
            "  2.00333163e-10 1.94768353e-10 1.99405695e-10 2.01260632e-10\n",
            "  1.87348607e-10 2.07752910e-10 1.59524556e-10 0.00000000e+00\n",
            "  0.00000000e+00 0.00000000e+00 0.00000000e+00 0.00000000e+00\n",
            "  0.00000000e+00 0.00000000e+00 0.00000000e+00 0.00000000e+00]\n",
            " [0.00000000e+00 0.00000000e+00 0.00000000e+00 0.00000000e+00\n",
            "  0.00000000e+00 0.00000000e+00 0.00000000e+00 0.00000000e+00\n",
            "  2.22592404e-11 2.35576961e-10 1.98478227e-10 1.94768353e-10\n",
            "  1.95695822e-10 1.98478227e-10 1.99405695e-10 1.96623290e-10\n",
            "  1.88276075e-10 2.04970505e-10 1.54887214e-10 0.00000000e+00\n",
            "  0.00000000e+00 0.00000000e+00 0.00000000e+00 0.00000000e+00\n",
            "  0.00000000e+00 0.00000000e+00 0.00000000e+00 0.00000000e+00]\n",
            " [0.00000000e+00 0.00000000e+00 0.00000000e+00 0.00000000e+00\n",
            "  0.00000000e+00 0.00000000e+00 0.00000000e+00 0.00000000e+00\n",
            "  0.00000000e+00 2.35576961e-10 2.00333163e-10 1.99405695e-10\n",
            "  2.01260632e-10 2.01260632e-10 2.00333163e-10 2.00333163e-10\n",
            "  1.91058480e-10 2.08680379e-10 1.39120252e-10 0.00000000e+00\n",
            "  0.00000000e+00 0.00000000e+00 0.00000000e+00 0.00000000e+00\n",
            "  0.00000000e+00 0.00000000e+00 0.00000000e+00 0.00000000e+00]\n",
            " [0.00000000e+00 0.00000000e+00 0.00000000e+00 0.00000000e+00\n",
            "  0.00000000e+00 0.00000000e+00 0.00000000e+00 0.00000000e+00\n",
            "  0.00000000e+00 2.29084682e-10 2.00333163e-10 1.98478227e-10\n",
            "  2.01260632e-10 2.00333163e-10 1.98478227e-10 1.96623290e-10\n",
            "  1.88276075e-10 2.09607847e-10 1.26135696e-10 0.00000000e+00\n",
            "  0.00000000e+00 0.00000000e+00 0.00000000e+00 0.00000000e+00\n",
            "  0.00000000e+00 0.00000000e+00 0.00000000e+00 0.00000000e+00]\n",
            " [0.00000000e+00 0.00000000e+00 0.00000000e+00 0.00000000e+00\n",
            "  0.00000000e+00 0.00000000e+00 0.00000000e+00 0.00000000e+00\n",
            "  0.00000000e+00 2.27229746e-10 2.00333163e-10 1.98478227e-10\n",
            "  2.00333163e-10 2.01260632e-10 1.99405695e-10 1.95695822e-10\n",
            "  1.89203543e-10 2.08680379e-10 1.15933544e-10 0.00000000e+00\n",
            "  0.00000000e+00 0.00000000e+00 0.00000000e+00 0.00000000e+00\n",
            "  0.00000000e+00 0.00000000e+00 0.00000000e+00 0.00000000e+00]\n",
            " [0.00000000e+00 0.00000000e+00 0.00000000e+00 0.00000000e+00\n",
            "  0.00000000e+00 0.00000000e+00 0.00000000e+00 0.00000000e+00\n",
            "  0.00000000e+00 2.29084682e-10 2.00333163e-10 1.98478227e-10\n",
            "  2.01260632e-10 2.04043037e-10 2.01260632e-10 1.97550758e-10\n",
            "  1.88276075e-10 2.05897974e-10 1.36337847e-10 0.00000000e+00\n",
            "  0.00000000e+00 0.00000000e+00 0.00000000e+00 0.00000000e+00\n",
            "  0.00000000e+00 0.00000000e+00 0.00000000e+00 0.00000000e+00]\n",
            " [0.00000000e+00 0.00000000e+00 0.00000000e+00 0.00000000e+00\n",
            "  0.00000000e+00 0.00000000e+00 0.00000000e+00 0.00000000e+00\n",
            "  0.00000000e+00 2.30012151e-10 2.00333163e-10 1.99405695e-10\n",
            "  2.02188100e-10 2.05897974e-10 2.00333163e-10 1.98478227e-10\n",
            "  1.91985948e-10 2.02188100e-10 1.66016835e-10 0.00000000e+00\n",
            "  0.00000000e+00 0.00000000e+00 0.00000000e+00 0.00000000e+00\n",
            "  0.00000000e+00 0.00000000e+00 0.00000000e+00 0.00000000e+00]\n",
            " [0.00000000e+00 0.00000000e+00 0.00000000e+00 0.00000000e+00\n",
            "  0.00000000e+00 0.00000000e+00 0.00000000e+00 0.00000000e+00\n",
            "  0.00000000e+00 2.30939619e-10 2.00333163e-10 2.01260632e-10\n",
            "  2.03115568e-10 2.05897974e-10 2.01260632e-10 1.98478227e-10\n",
            "  1.94768353e-10 1.99405695e-10 1.95695822e-10 0.00000000e+00\n",
            "  0.00000000e+00 0.00000000e+00 0.00000000e+00 0.00000000e+00\n",
            "  0.00000000e+00 0.00000000e+00 0.00000000e+00 0.00000000e+00]\n",
            " [0.00000000e+00 0.00000000e+00 0.00000000e+00 0.00000000e+00\n",
            "  0.00000000e+00 0.00000000e+00 0.00000000e+00 0.00000000e+00\n",
            "  3.52437973e-11 2.36504429e-10 1.98478227e-10 2.02188100e-10\n",
            "  2.03115568e-10 2.07752910e-10 2.02188100e-10 1.99405695e-10\n",
            "  1.95695822e-10 1.95695822e-10 2.14245189e-10 0.00000000e+00\n",
            "  0.00000000e+00 0.00000000e+00 0.00000000e+00 0.00000000e+00\n",
            "  0.00000000e+00 0.00000000e+00 0.00000000e+00 0.00000000e+00]\n",
            " [0.00000000e+00 0.00000000e+00 0.00000000e+00 0.00000000e+00\n",
            "  0.00000000e+00 0.00000000e+00 0.00000000e+00 0.00000000e+00\n",
            "  7.32699996e-11 2.10535315e-10 1.93840885e-10 2.03115568e-10\n",
            "  2.03115568e-10 2.10535315e-10 2.03115568e-10 1.99405695e-10\n",
            "  1.97550758e-10 1.91058480e-10 2.35576961e-10 5.37931643e-11\n",
            "  0.00000000e+00 0.00000000e+00 0.00000000e+00 0.00000000e+00\n",
            "  0.00000000e+00 0.00000000e+00 0.00000000e+00 0.00000000e+00]\n",
            " [0.00000000e+00 0.00000000e+00 0.00000000e+00 0.00000000e+00\n",
            "  0.00000000e+00 0.00000000e+00 0.00000000e+00 0.00000000e+00\n",
            "  1.35410379e-10 2.09607847e-10 1.95695822e-10 2.04043037e-10\n",
            "  2.03115568e-10 2.11462784e-10 2.02188100e-10 1.99405695e-10\n",
            "  2.00333163e-10 1.90131012e-10 2.03115568e-10 1.51177341e-10\n",
            "  0.00000000e+00 0.00000000e+00 0.00000000e+00 0.00000000e+00\n",
            "  0.00000000e+00 0.00000000e+00 0.00000000e+00 0.00000000e+00]\n",
            " [0.00000000e+00 0.00000000e+00 0.00000000e+00 0.00000000e+00\n",
            "  0.00000000e+00 0.00000000e+00 0.00000000e+00 0.00000000e+00\n",
            "  1.87348607e-10 2.04970505e-10 1.98478227e-10 2.04970505e-10\n",
            "  2.03115568e-10 2.14245189e-10 2.02188100e-10 1.99405695e-10\n",
            "  2.02188100e-10 1.97550758e-10 1.96623290e-10 2.04043037e-10\n",
            "  0.00000000e+00 0.00000000e+00 0.00000000e+00 0.00000000e+00\n",
            "  0.00000000e+00 0.00000000e+00 0.00000000e+00 0.00000000e+00]\n",
            " [0.00000000e+00 0.00000000e+00 0.00000000e+00 0.00000000e+00\n",
            "  0.00000000e+00 0.00000000e+00 0.00000000e+00 0.00000000e+00\n",
            "  2.17027594e-10 2.01260632e-10 2.00333163e-10 2.04043037e-10\n",
            "  2.03115568e-10 2.17027594e-10 2.01260632e-10 1.99405695e-10\n",
            "  2.02188100e-10 2.00333163e-10 2.06825442e-10 2.29084682e-10\n",
            "  6.49227844e-12 0.00000000e+00 0.00000000e+00 0.00000000e+00\n",
            "  0.00000000e+00 0.00000000e+00 0.00000000e+00 0.00000000e+00]\n",
            " [0.00000000e+00 0.00000000e+00 0.00000000e+00 0.00000000e+00\n",
            "  0.00000000e+00 0.00000000e+00 0.00000000e+00 1.57669619e-11\n",
            "  2.35576961e-10 1.96623290e-10 2.03115568e-10 2.03115568e-10\n",
            "  2.04043037e-10 2.16100125e-10 1.98478227e-10 2.00333163e-10\n",
            "  2.03115568e-10 2.05897974e-10 1.41902657e-10 2.20737467e-10\n",
            "  5.37931643e-11 0.00000000e+00 0.00000000e+00 0.00000000e+00\n",
            "  0.00000000e+00 0.00000000e+00 0.00000000e+00 0.00000000e+00]\n",
            " [0.00000000e+00 0.00000000e+00 0.00000000e+00 0.00000000e+00\n",
            "  0.00000000e+00 0.00000000e+00 0.00000000e+00 6.12129111e-11\n",
            "  2.36504429e-10 1.92913417e-10 2.04043037e-10 2.03115568e-10\n",
            "  2.05897974e-10 2.23519872e-10 2.04043037e-10 2.02188100e-10\n",
            "  2.02188100e-10 2.02188100e-10 1.78073923e-10 2.24447341e-10\n",
            "  9.18193666e-11 0.00000000e+00 0.00000000e+00 0.00000000e+00\n",
            "  0.00000000e+00 0.00000000e+00 0.00000000e+00 0.00000000e+00]\n",
            " [0.00000000e+00 0.00000000e+00 0.00000000e+00 0.00000000e+00\n",
            "  0.00000000e+00 0.00000000e+00 0.00000000e+00 1.31700506e-10\n",
            "  2.17955062e-10 1.88276075e-10 2.02188100e-10 2.00333163e-10\n",
            "  2.14245189e-10 2.24447341e-10 2.08680379e-10 2.16100125e-10\n",
            "  2.03115568e-10 1.98478227e-10 2.00333163e-10 2.20737467e-10\n",
            "  1.33555442e-10 0.00000000e+00 0.00000000e+00 0.00000000e+00\n",
            "  0.00000000e+00 0.00000000e+00 0.00000000e+00 0.00000000e+00]\n",
            " [0.00000000e+00 0.00000000e+00 0.00000000e+00 0.00000000e+00\n",
            "  0.00000000e+00 0.00000000e+00 0.00000000e+00 1.64161898e-10\n",
            "  2.30012151e-10 2.10535315e-10 2.12390252e-10 1.95695822e-10\n",
            "  2.36504429e-10 7.04875945e-11 0.00000000e+00 2.29084682e-10\n",
            "  2.25374809e-10 2.13317720e-10 2.13317720e-10 2.30939619e-10\n",
            "  1.73436581e-10 0.00000000e+00 0.00000000e+00 0.00000000e+00\n",
            "  0.00000000e+00 0.00000000e+00 0.00000000e+00 0.00000000e+00]\n",
            " [0.00000000e+00 0.00000000e+00 0.00000000e+00 0.00000000e+00\n",
            "  0.00000000e+00 0.00000000e+00 0.00000000e+00 9.36743033e-11\n",
            "  2.23519872e-10 2.11462784e-10 2.11462784e-10 2.04043037e-10\n",
            "  2.36504429e-10 5.93579744e-11 0.00000000e+00 2.25374809e-10\n",
            "  2.19809999e-10 2.13317720e-10 2.10535315e-10 2.23519872e-10\n",
            "  1.31700506e-10 0.00000000e+00 0.00000000e+00 0.00000000e+00\n",
            "  0.00000000e+00 0.00000000e+00 0.00000000e+00 0.00000000e+00]\n",
            " [0.00000000e+00 0.00000000e+00 0.00000000e+00 0.00000000e+00\n",
            "  0.00000000e+00 0.00000000e+00 0.00000000e+00 0.00000000e+00\n",
            "  2.36504429e-10 2.24447341e-10 2.05897974e-10 2.02188100e-10\n",
            "  2.36504429e-10 5.75030377e-11 0.00000000e+00 2.06825442e-10\n",
            "  2.20737467e-10 2.08680379e-10 2.20737467e-10 2.36504429e-10\n",
            "  2.87515188e-11 0.00000000e+00 0.00000000e+00 0.00000000e+00\n",
            "  0.00000000e+00 0.00000000e+00 0.00000000e+00 0.00000000e+00]\n",
            " [0.00000000e+00 0.00000000e+00 0.00000000e+00 0.00000000e+00\n",
            "  0.00000000e+00 0.00000000e+00 0.00000000e+00 0.00000000e+00\n",
            "  4.17360757e-11 2.36504429e-10 2.24447341e-10 2.17955062e-10\n",
            "  2.36504429e-10 7.79073413e-11 0.00000000e+00 2.28157214e-10\n",
            "  2.36504429e-10 2.24447341e-10 2.36504429e-10 6.49227844e-11\n",
            "  0.00000000e+00 0.00000000e+00 0.00000000e+00 0.00000000e+00\n",
            "  0.00000000e+00 0.00000000e+00 0.00000000e+00 0.00000000e+00]\n",
            " [0.00000000e+00 0.00000000e+00 0.00000000e+00 0.00000000e+00\n",
            "  0.00000000e+00 0.00000000e+00 0.00000000e+00 0.00000000e+00\n",
            "  0.00000000e+00 0.00000000e+00 5.65755693e-11 9.46017716e-11\n",
            "  1.55814683e-10 2.31867087e-11 0.00000000e+00 1.28918101e-10\n",
            "  1.49322404e-10 6.86326578e-11 0.00000000e+00 0.00000000e+00\n",
            "  0.00000000e+00 0.00000000e+00 0.00000000e+00 0.00000000e+00\n",
            "  0.00000000e+00 0.00000000e+00 0.00000000e+00 0.00000000e+00]]\n"
          ],
          "name": "stdout"
        },
        {
          "output_type": "display_data",
          "data": {
            "image/png": "[encoded data removed]",
            "text/plain": [
              "<Figure size 576x396 with 2 Axes>"
            ]
          },
          "metadata": {
            "tags": []
          }
        },
        {
          "output_type": "display_data",
          "data": {
            "image/png": "[encoded data removed]",
            "text/plain": [
              "<Figure size 720x720 with 10 Axes>"
            ]
          },
          "metadata": {
            "tags": []
          }
        }
      ]
    }
  ]
}