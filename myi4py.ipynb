{
  "nbformat": 4,
  "nbformat_minor": 0,
  "metadata": {
    "colab": {
      "name": "Untitled3.ipynb",
      "version": "0.3.2",
      "provenance": [],
      "collapsed_sections": [],
      "include_colab_link": true
    },
    "kernelspec": {
      "name": "python3",
      "display_name": "Python 3"
    }
  },
  "cells": [
    {
      "cell_type": "markdown",
      "metadata": {
        "id": "view-in-github",
        "colab_type": "text"
      },
      "source": [
        "<a href=\"https://colab.research.google.com/github/saboye/Chat_bot-pusher/blob/master/myi4py.ipynb\" target=\"_parent\"><img src=\"https://colab.research.google.com/assets/colab-badge.svg\" alt=\"Open In Colab\"/></a>"
      ]
    },
    {
      "metadata": {
        "id": "o7R-miDbdDO_",
        "colab_type": "code",
        "colab": {}
      },
      "cell_type": "code",
      "source": [
        "import mpi4py.MPI\n"
      ],
      "execution_count": 0,
      "outputs": []
    },
    {
      "metadata": {
        "id": "Lh7sH_wXdJtw",
        "colab_type": "code",
        "colab": {}
      },
      "cell_type": "code",
      "source": [
        "def f(i):\n",
        "  f=open(\"%d.txt\"%i,\"w\")\n",
        "  f.write(\"%d * 10 = %d\\n\"%(i, 10*i))\n",
        "  f.close() \n",
        "  "
      ],
      "execution_count": 0,
      "outputs": []
    },
    {
      "metadata": {
        "id": "uPkyQdVddvYe",
        "colab_type": "code",
        "colab": {}
      },
      "cell_type": "code",
      "source": [
        "task_list = range(10)\n",
        "for task in task_list:\n",
        "  f(task)\n",
        "  \n"
      ],
      "execution_count": 0,
      "outputs": []
    },
    {
      "metadata": {
        "id": "_YYO2d0heHSa",
        "colab_type": "code",
        "colab": {}
      },
      "cell_type": "code",
      "source": [
        "rank = mpi4py.MPI.COMM_WORLD.Get_rank()\n",
        "size = mpi4py.MPI.COMM_WORLD.Get_size()"
      ],
      "execution_count": 0,
      "outputs": []
    },
    {
      "metadata": {
        "id": "potzzUQveNmS",
        "colab_type": "code",
        "outputId": "a61c861e-b68c-4c93-b4cf-0a06e078bb61",
        "colab": {
          "base_uri": "https://localhost:8080/",
          "height": 187
        }
      },
      "cell_type": "code",
      "source": [
        "for i,task in enumerate(task_list):\n",
        "  \n",
        "  if i%size!=rank: continue\n",
        "  print (\"Task number %d (%d) being done by processor %d of %d\" % (i, task, rank, size))\n",
        "  f(task)\n",
        "  "
      ],
      "execution_count": 8,
      "outputs": [
        {
          "output_type": "stream",
          "text": [
            "Task number 0 (0) being done by processor 0 of 1\n",
            "Task number 1 (1) being done by processor 0 of 1\n",
            "Task number 2 (2) being done by processor 0 of 1\n",
            "Task number 3 (3) being done by processor 0 of 1\n",
            "Task number 4 (4) being done by processor 0 of 1\n",
            "Task number 5 (5) being done by processor 0 of 1\n",
            "Task number 6 (6) being done by processor 0 of 1\n",
            "Task number 7 (7) being done by processor 0 of 1\n",
            "Task number 8 (8) being done by processor 0 of 1\n",
            "Task number 9 (9) being done by processor 0 of 1\n"
          ],
          "name": "stdout"
        }
      ]
    },
    {
      "metadata": {
        "id": "cuBR2tjZeci3",
        "colab_type": "code",
        "colab": {}
      },
      "cell_type": "code",
      "source": [
        ""
      ],
      "execution_count": 0,
      "outputs": []
    },
    {
      "metadata": {
        "id": "ibpTTfUNe_pz",
        "colab_type": "code",
        "colab": {}
      },
      "cell_type": "code",
      "source": [
        ""
      ],
      "execution_count": 0,
      "outputs": []
    },
    {
      "metadata": {
        "id": "efYOSL8he_3L",
        "colab_type": "code",
        "colab": {}
      },
      "cell_type": "code",
      "source": [
        ""
      ],
      "execution_count": 0,
      "outputs": []
    },
    {
      "metadata": {
        "id": "2CYGSsuLfANU",
        "colab_type": "code",
        "colab": {}
      },
      "cell_type": "code",
      "source": [
        ""
      ],
      "execution_count": 0,
      "outputs": []
    }
  ]
}