{
  "nbformat": 4,
  "nbformat_minor": 0,
  "metadata": {
    "colab": {
      "name": "Untitled18.ipynb",
      "version": "0.3.2",
      "provenance": [],
      "collapsed_sections": [],
      "include_colab_link": true
    },
    "kernelspec": {
      "name": "python3",
      "display_name": "Python 3"
    }
  },
  "cells": [
    {
      "cell_type": "markdown",
      "metadata": {
        "id": "view-in-github",
        "colab_type": "text"
      },
      "source": [
        "<a href=\"https://colab.research.google.com/github/saboye/Chat_bot-pusher/blob/master/Untitled18.ipynb\" target=\"_parent\"><img src=\"https://colab.research.google.com/assets/colab-badge.svg\" alt=\"Open In Colab\"/></a>"
      ]
    },
    {
      "metadata": {
        "id": "8J-LyGpesqeZ",
        "colab_type": "code",
        "colab": {}
      },
      "cell_type": "code",
      "source": [
        "import collections\n",
        "import multiprocessing \n",
        "import os \n",
        "import time \n",
        "from pprint import pprint \n"
      ],
      "execution_count": 0,
      "outputs": []
    },
    {
      "metadata": {
        "id": "mm6KZU6Twsoj",
        "colab_type": "code",
        "colab": {}
      },
      "cell_type": "code",
      "source": [
        "def add(x, y):\n",
        "   return x + y\n",
        "\n",
        "# This function subtracts two numbers \n",
        "def sub(x, y):\n",
        "   return x - y\n",
        "\n",
        "# This function multiplies two numbers\n",
        "def mult(x, y):\n",
        "   return x * y\n",
        "\n",
        "# This function divides two numbers\n",
        "def div(x, y):\n",
        "   return x / y"
      ],
      "execution_count": 0,
      "outputs": []
    },
    {
      "metadata": {
        "id": "3r4hRWrms6fY",
        "colab_type": "code",
        "colab": {}
      },
      "cell_type": "code",
      "source": [
        "worker = collections.namedtuple('worker', [\n",
        "    'name'\n",
        "    'operation'\n",
        "        ])\n"
      ],
      "execution_count": 0,
      "outputs": []
    },
    {
      "metadata": {
        "id": "Ftn4ILLJt3JA",
        "colab_type": "code",
        "outputId": "6df16b23-8f47-4032-cbc8-4f7dff0f9d39",
        "colab": {
          "base_uri": "https://localhost:8080/",
          "height": 129
        }
      },
      "cell_type": "code",
      "source": [
        "workers =(\n",
        "     worker(name = 'worker-2', operation =add(x,y),\n",
        "     worker(name = 'worker-2', operation =sub(x,y),  \n",
        "     worker(name = 'worker-2', operation =mult(x,y),\n",
        "     worker(name = 'worker-2', operation =div(x,y),\n",
        "           \n",
        ")\n",
        "    \n",
        " \n",
        "  "
      ],
      "execution_count": 0,
      "outputs": [
        {
          "output_type": "error",
          "ename": "SyntaxError",
          "evalue": "ignored",
          "traceback": [
            "\u001b[0;36m  File \u001b[0;32m\"<ipython-input-33-0a9406c726ec>\"\u001b[0;36m, line \u001b[0;32m10\u001b[0m\n\u001b[0;31m    \u001b[0m\n\u001b[0m    ^\u001b[0m\n\u001b[0;31mSyntaxError\u001b[0m\u001b[0;31m:\u001b[0m unexpected EOF while parsing\n"
          ]
        }
      ]
    },
    {
      "metadata": {
        "id": "A9r_XTwTvd8G",
        "colab_type": "code",
        "colab": {}
      },
      "cell_type": "code",
      "source": [
        ""
      ],
      "execution_count": 0,
      "outputs": []
    },
    {
      "metadata": {
        "id": "_OaKSKA-3Okc",
        "colab_type": "code",
        "colab": {}
      },
      "cell_type": "code",
      "source": [
        ""
      ],
      "execution_count": 0,
      "outputs": []
    }
  ]
}