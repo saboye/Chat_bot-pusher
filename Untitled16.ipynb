{
  "nbformat": 4,
  "nbformat_minor": 0,
  "metadata": {
    "colab": {
      "name": "Untitled16.ipynb",
      "version": "0.3.2",
      "provenance": [],
      "include_colab_link": true
    },
    "kernelspec": {
      "name": "python3",
      "display_name": "Python 3"
    }
  },
  "cells": [
    {
      "cell_type": "markdown",
      "metadata": {
        "id": "view-in-github",
        "colab_type": "text"
      },
      "source": [
        "<a href=\"https://colab.research.google.com/github/saboye/Chat_bot-pusher/blob/master/Untitled16.ipynb\" target=\"_parent\"><img src=\"https://colab.research.google.com/assets/colab-badge.svg\" alt=\"Open In Colab\"/></a>"
      ]
    },
    {
      "metadata": {
        "id": "oD-TXxXET05f",
        "colab_type": "code",
        "colab": {}
      },
      "cell_type": "code",
      "source": [
        "from __future__ import absolute_import, division, print_function\n",
        "import functools\n",
        "import tensorflow as tf\n",
        "from tensorflow import keras"
      ],
      "execution_count": 0,
      "outputs": []
    },
    {
      "metadata": {
        "id": "r8ErW7EnT7mm",
        "colab_type": "code",
        "colab": {}
      },
      "cell_type": "code",
      "source": [
        "import numpy as np\n",
        "import matplotlib.pyplot as plt"
      ],
      "execution_count": 0,
      "outputs": []
    },
    {
      "metadata": {
        "id": "PApbn3swT_O1",
        "colab_type": "code",
        "colab": {}
      },
      "cell_type": "code",
      "source": [
        "# mnist = keras.datasets.mnist\n",
        "\n",
        "# (train_images, train_labels), (test_images, test_labels) = mnist.load_data()\n",
        "from tensorflow.examples.tutorials.mnist import input_data"
      ],
      "execution_count": 0,
      "outputs": []
    },
    {
      "metadata": {
        "id": "n_FvKOdeUDIH",
        "colab_type": "code",
        "colab": {}
      },
      "cell_type": "code",
      "source": [
        "def doublewrap(function):\n",
        "    \"\"\"\n",
        "    A decorator decorator, allowing to use the decorator to be used without\n",
        "    parentheses if no arguments are provided. All arguments must be optional.\n",
        "    \"\"\"\n",
        "    @functools.wraps(function)\n",
        "    def decorator(*args, **kwargs):\n",
        "        if len(args) == 1 and len(kwargs) == 0 and callable(args[0]):\n",
        "            return function(args[0])\n",
        "        else:\n",
        "            return lambda wrapee: function(wrapee, *args, **kwargs)\n",
        "    return decorator"
      ],
      "execution_count": 0,
      "outputs": []
    },
    {
      "metadata": {
        "id": "ys9dhjjSUI8A",
        "colab_type": "code",
        "colab": {}
      },
      "cell_type": "code",
      "source": [
        "@doublewrap\n",
        "def define_scope(function, scope=None, *args, **kwargs):\n",
        "    \"\"\"\n",
        "    A decorator for functions that define TensorFlow operations. The wrapped\n",
        "    function will only be executed once. Subsequent calls to it will directly\n",
        "    return the result so that operations are added to the graph only once.\n",
        "    The operations added by the function live within a tf.variable_scope(). If\n",
        "    this decorator is used with arguments, they will be forwarded to the\n",
        "    variable scope. The scope name defaults to the name of the wrapped\n",
        "    function.\n",
        "    \"\"\"\n",
        "    attribute = '_cache_' + function.__name__\n",
        "    name = scope or function.__name__\n",
        "    @property\n",
        "    @functools.wraps(function)\n",
        "    def decorator(self):\n",
        "        if not hasattr(self, attribute):\n",
        "            with tf.variable_scope(name, *args, **kwargs):\n",
        "                setattr(self, attribute, function(self))\n",
        "        return getattr(self, attribute)\n",
        "    return decorator"
      ],
      "execution_count": 0,
      "outputs": []
    },
    {
      "metadata": {
        "id": "J7VsnWceUNGa",
        "colab_type": "code",
        "colab": {
          "base_uri": "https://localhost:8080/",
          "height": 802
        },
        "outputId": "da0f986a-b894-402f-8d0d-6dece0bd9371"
      },
      "cell_type": "code",
      "source": [
        "class Model:\n",
        "\n",
        "    def __init__(self, image, label):\n",
        "        self.image = image\n",
        "        self.label = label\n",
        "        self.prediction\n",
        "        self.optimize\n",
        "        self.error\n",
        "\n",
        "    @define_scope(initializer=tf.contrib.slim.xavier_initializer())\n",
        "    def prediction(self):\n",
        "        x = self.image\n",
        "        x = tf.contrib.slim.fully_connected(x, 200)\n",
        "        x = tf.contrib.slim.fully_connected(x, 200)\n",
        "        x = tf.contrib.slim.fully_connected(x, 10, tf.nn.softmax)\n",
        "        return x\n",
        "\n",
        "    @define_scope\n",
        "    def optimize(self):\n",
        "        logprob = tf.log(self.prediction + 1e-12)\n",
        "        cross_entropy = -tf.reduce_sum(self.label * logprob)\n",
        "        optimizer = tf.train.RMSPropOptimizer(0.03)\n",
        "        return optimizer.minimize(cross_entropy)\n",
        "\n",
        "    @define_scope\n",
        "    def error(self):\n",
        "        mistakes = tf.not_equal(\n",
        "            tf.argmax(self.label, 1), tf.argmax(self.prediction, 1))\n",
        "        return tf.reduce_mean(tf.cast(mistakes, tf.float32))\n",
        "\n",
        "\n",
        "def main():\n",
        "    mnist = input_data.read_data_sets('./mnist/', one_hot=True)\n",
        "    image = tf.placeholder(tf.float32, [None, 784])\n",
        "    label = tf.placeholder(tf.float32, [None, 10])\n",
        "    model = Model(image, label)\n",
        "    sess = tf.Session()\n",
        "    sess.run(tf.initialize_all_variables())\n",
        "\n",
        "    for _ in range(10):\n",
        "      images, labels = mnist.test.images, mnist.test.labels\n",
        "      error = sess.run(model.error, {image: images, label: labels})\n",
        "      print('Test error {:6.2f}%'.format(100 * error))\n",
        "      for _ in range(60):\n",
        "        images, labels = mnist.train.next_batch(100)\n",
        "        sess.run(model.optimize, {image: images, label: labels})\n",
        "\n",
        "\n",
        "if __name__ == '__main__':\n",
        "  main()"
      ],
      "execution_count": 6,
      "outputs": [
        {
          "output_type": "stream",
          "text": [
            "WARNING:tensorflow:From <ipython-input-6-7063dcdd0570>:33: read_data_sets (from tensorflow.contrib.learn.python.learn.datasets.mnist) is deprecated and will be removed in a future version.\n",
            "Instructions for updating:\n",
            "Please use alternatives such as official/mnist/dataset.py from tensorflow/models.\n",
            "WARNING:tensorflow:From /usr/local/lib/python3.6/dist-packages/tensorflow/contrib/learn/python/learn/datasets/mnist.py:260: maybe_download (from tensorflow.contrib.learn.python.learn.datasets.base) is deprecated and will be removed in a future version.\n",
            "Instructions for updating:\n",
            "Please write your own downloading logic.\n",
            "WARNING:tensorflow:From /usr/local/lib/python3.6/dist-packages/tensorflow/contrib/learn/python/learn/datasets/base.py:252: _internal_retry.<locals>.wrap.<locals>.wrapped_fn (from tensorflow.contrib.learn.python.learn.datasets.base) is deprecated and will be removed in a future version.\n",
            "Instructions for updating:\n",
            "Please use urllib or similar directly.\n",
            "Successfully downloaded train-images-idx3-ubyte.gz 9912422 bytes.\n",
            "WARNING:tensorflow:From /usr/local/lib/python3.6/dist-packages/tensorflow/contrib/learn/python/learn/datasets/mnist.py:262: extract_images (from tensorflow.contrib.learn.python.learn.datasets.mnist) is deprecated and will be removed in a future version.\n",
            "Instructions for updating:\n",
            "Please use tf.data to implement this functionality.\n",
            "Extracting ./mnist/train-images-idx3-ubyte.gz\n",
            "Successfully downloaded train-labels-idx1-ubyte.gz 28881 bytes.\n",
            "WARNING:tensorflow:From /usr/local/lib/python3.6/dist-packages/tensorflow/contrib/learn/python/learn/datasets/mnist.py:267: extract_labels (from tensorflow.contrib.learn.python.learn.datasets.mnist) is deprecated and will be removed in a future version.\n",
            "Instructions for updating:\n",
            "Please use tf.data to implement this functionality.\n",
            "Extracting ./mnist/train-labels-idx1-ubyte.gz\n",
            "WARNING:tensorflow:From /usr/local/lib/python3.6/dist-packages/tensorflow/contrib/learn/python/learn/datasets/mnist.py:110: dense_to_one_hot (from tensorflow.contrib.learn.python.learn.datasets.mnist) is deprecated and will be removed in a future version.\n",
            "Instructions for updating:\n",
            "Please use tf.one_hot on tensors.\n",
            "Successfully downloaded t10k-images-idx3-ubyte.gz 1648877 bytes.\n",
            "Extracting ./mnist/t10k-images-idx3-ubyte.gz\n",
            "Successfully downloaded t10k-labels-idx1-ubyte.gz 4542 bytes.\n",
            "Extracting ./mnist/t10k-labels-idx1-ubyte.gz\n",
            "WARNING:tensorflow:From /usr/local/lib/python3.6/dist-packages/tensorflow/contrib/learn/python/learn/datasets/mnist.py:290: DataSet.__init__ (from tensorflow.contrib.learn.python.learn.datasets.mnist) is deprecated and will be removed in a future version.\n",
            "Instructions for updating:\n",
            "Please use alternatives such as official/mnist/dataset.py from tensorflow/models.\n",
            "WARNING:tensorflow:From /usr/local/lib/python3.6/dist-packages/tensorflow/python/framework/op_def_library.py:263: colocate_with (from tensorflow.python.framework.ops) is deprecated and will be removed in a future version.\n",
            "Instructions for updating:\n",
            "Colocations handled automatically by placer.\n",
            "WARNING:tensorflow:From /usr/local/lib/python3.6/dist-packages/tensorflow/python/util/tf_should_use.py:193: initialize_all_variables (from tensorflow.python.ops.variables) is deprecated and will be removed after 2017-03-02.\n",
            "Instructions for updating:\n",
            "Use `tf.global_variables_initializer` instead.\n",
            "Test error  91.89%\n",
            "Test error  39.52%\n",
            "Test error  18.85%\n",
            "Test error  12.25%\n",
            "Test error  11.08%\n",
            "Test error   9.77%\n",
            "Test error  13.99%\n",
            "Test error  10.95%\n",
            "Test error   9.31%\n",
            "Test error   8.83%\n"
          ],
          "name": "stdout"
        }
      ]
    },
    {
      "metadata": {
        "id": "ED_RwguvUaI1",
        "colab_type": "code",
        "colab": {}
      },
      "cell_type": "code",
      "source": [
        ""
      ],
      "execution_count": 0,
      "outputs": []
    },
    {
      "metadata": {
        "id": "WeY9Y5xgU4Oa",
        "colab_type": "code",
        "colab": {}
      },
      "cell_type": "code",
      "source": [
        ""
      ],
      "execution_count": 0,
      "outputs": []
    }
  ]
}